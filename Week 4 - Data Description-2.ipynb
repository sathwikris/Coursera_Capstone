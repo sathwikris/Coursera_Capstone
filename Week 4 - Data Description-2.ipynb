{
 "cells": [
  {
   "cell_type": "markdown",
   "metadata": {},
   "source": [
    "# Data Description"
   ]
  },
  {
   "cell_type": "markdown",
   "metadata": {},
   "source": [
    "Will use Scarborough dataset which we scrapped from wikipedia on Week 3. Dataset consisting of latitude and longitude, zip codes."
   ]
  },
  {
   "cell_type": "markdown",
   "metadata": {},
   "source": [
    "### Foursquare API Data:"
   ]
  },
  {
   "cell_type": "markdown",
   "metadata": {},
   "source": [
    "For the above purpose we will need some data about the surrounding places for which we will be using the Foursquare platform. Foursquare is a very famous databae which has all the data related to the surrounding places with geo tags.  They include venue names, locations, menus and even photos. They can be accessed using API calls. \n",
    "We can access the information realed to 100 meters radius and get ll the relevant data from it. This helps us to easily apply data science concepts and recommend the user to a very good result. The following are a few information that can be gathered from Foursquare"
   ]
  },
  {
   "cell_type": "markdown",
   "metadata": {},
   "source": [
    "1. Neighborhood\n",
    "2. Latitude\n",
    "3. Longitude\n",
    "4. Venue  Tag\n",
    "5. Name of the venue\n",
    "6. Venue Latitude\n",
    "7. Venue Longitude\n",
    "8. Venue Category\n",
    "9. Venue Hours\n",
    "10. Venue Ratings\n",
    "11. Photos if required (Hybrid method)"
   ]
  },
  {
   "cell_type": "code",
   "execution_count": null,
   "metadata": {},
   "outputs": [],
   "source": []
  }
 ],
 "metadata": {
  "kernelspec": {
   "display_name": "Python 3",
   "language": "python",
   "name": "python3"
  },
  "language_info": {
   "codemirror_mode": {
    "name": "ipython",
    "version": 3
   },
   "file_extension": ".py",
   "mimetype": "text/x-python",
   "name": "python",
   "nbconvert_exporter": "python",
   "pygments_lexer": "ipython3",
   "version": "3.7.6"
  }
 },
 "nbformat": 4,
 "nbformat_minor": 4
}
