{
 "cells": [
  {
   "cell_type": "markdown",
   "metadata": {},
   "source": [
    "# Final Report of Capstone Project"
   ]
  },
  {
   "cell_type": "markdown",
   "metadata": {},
   "source": [
    "## INTRODUCTION"
   ]
  },
  {
   "cell_type": "markdown",
   "metadata": {},
   "source": [
    "The main purpose of this Project is to help people in exploring better places and hotspots to current trend. It will help people making smart, efficient and intelligent decision on selecting great neighborhood out of numbers of other neighborhoods in Scarborough, Toranto. Many people migrating to Canada needed lots of information related to places nearby which they use on a day to day basis like shops, malls, hospitals, retaurants, etc. This Project aim to create an analysis of features for a people migrating to Scarborough to search a best neighborhood as a comparative analysis between neighborhoods. The features include median housing price and better school according to ratings, crime rates of that particular area, road connectivity, weather conditions, good management for emergency, water resources both freash and waste water and excrement conveyed in sewers and recreational facilities. It will help people to get informed about the area before moving to a new city in this case Scarborough."
   ]
  },
  {
   "cell_type": "markdown",
   "metadata": {},
   "source": [
    "## DATA SELECTION"
   ]
  },
  {
   "cell_type": "markdown",
   "metadata": {},
   "source": [
    "Will use Scarborough dataset which we scrapped from wikipedia on Week 3. Dataset consisting of latitude and longitude, zip codes.\n",
    "For the above purpose we will need some data about the surrounding places for which we will be using the Foursquare platform. Foursquare is a very famous databae which has all the data related to the surrounding places with geo tags. They include venue names, locations, menus and even photos. They can be accessed using API calls. We can access the information realed to 100 meters radius and get ll the relevant data from it. This helps us to easily apply data science concepts and recommend the user to a very good result. The following are a few information that can be gathered from Foursquare\n",
    "\n",
    "1. Neighborhood\n",
    "2. Latitude\n",
    "3. Longitude\n",
    "4. Venue  Tag\n",
    "5. Name of the venue\n",
    "6. Venue Latitude\n",
    "7. Venue Longitude\n",
    "8. Venue Category\n",
    "9. Venue Hours\n",
    "10. Venue Ratings\n",
    "11. Photos if required (Hybrid method)"
   ]
  },
  {
   "cell_type": "markdown",
   "metadata": {},
   "source": [
    "## METHODOLOGY"
   ]
  },
  {
   "cell_type": "markdown",
   "metadata": {},
   "source": [
    "#### Clustering Approach:\n",
    "Primarily we analyse the similarities of two cities to explore neighborhoods, segment them, and group them into clusters to find similar neighborhoods in a big city like New York and Toronto. To be able to do that, we are going to use k-means\n",
    "#### Libraries Required:\n",
    "Pandas: For creating and manipulating dataframes. Folium: Python visualization library would be used to visualize the neighborhoods cluster distribution of using interactive leaflet map. Scikit Learn: For importing k-means clustering. JSON: Library to handle JSON files. XML: To separate data from presentation and XML stores data in plain text format. Beautiful Soup and Requests: To scrap and library to handle http requests. Matplotlib: Python Plotting Module.\n",
    "#### Foursquare API:\n",
    "We will be using Foursquare APi here in this project. It will help us get the geo location information and the detalis of almost all the important places and hotspots nearby. Sometimes we can even get photos. "
   ]
  },
  {
   "cell_type": "markdown",
   "metadata": {},
   "source": [
    "## RESULT SECTION"
   ]
  },
  {
   "cell_type": "markdown",
   "metadata": {},
   "source": [
    "Below is the map of Average price, School Ratings "
   ]
  },
  {
   "cell_type": "markdown",
   "metadata": {},
   "source": [
    "## DISCUSSION SECTION\n",
    "\n",
    "Here, the problem which we are trying to solve is,\n",
    "\n",
    "The problem which is of interest here is the problems faced by new people to the society, like immigrants, where they need help is finding good places for thier choices. It requires grouping of link minded people. By solving this, we can help them find lots of places matching their interests and which would by inturn help them have a pleseant stay. The major purpose of this project, is to suggest a better neighborhood in a new city for the person who are shiffting there. Social presence in society in terms of like minded people. Connectivity to the airport, bus stand, city center, markets and other daily needs things nearby.\n",
    "\n",
    "What we got from our result is, \n",
    "\n",
    "1. A sytematic and sorted databse of housing prices, average neighbours and schools. \n",
    "2. A graphical information about the schools in terms of location, fees along with ratings and reviews. "
   ]
  },
  {
   "cell_type": "markdown",
   "metadata": {},
   "source": [
    "## CONCLUSION SECTION\n",
    "\n",
    "In this project, using k-means cluster algorithm I separated the neighborhood into different clusters and for 103 different lattitude and logitude from dataset, which have very-similar neighborhoods around them. Using the charts above results presented to a particular neighborhood based on average house prices and school rating have been made.\n",
    "This course will help everyone in understanding the various concepts of data science and it implemeting it in this capstone project will help understand the concept better. This project has real life alaysis and results of which we can use in our day to day life. This motivates us in doing this project and the curiosity is still on. \n",
    "\n",
    "#### Future Works:\n",
    "\n",
    "This project can be continued for making it more precise in terms to find best house in Scarborough. Best means on the basis of all required things(daily needs or things we need to live a better life) around and also in terms of cost effective.\n",
    "\n",
    "#### For the libraries which are used to develope the project:¶\n",
    "\n",
    "Pandas: For creating and manipulating dataframes.\n",
    "Folium: Python visualization library would be used to visualize the neighborhoods cluster distribution of using interactive leaflet map.\n",
    "Scikit Learn: For importing k-means clustering.\n",
    "JSON: Library to handle JSON files.\n",
    "XML: To separate data from presentation and XML stores data in plain text format.\n",
    "Geocoder: To retrieve Location Data.\n",
    "Beautiful Soup and Requests: To scrap and library to handle http requests.\n",
    "Matplotlib: Python Plotting Module."
   ]
  }
 ],
 "metadata": {
  "kernelspec": {
   "display_name": "Python 3",
   "language": "python",
   "name": "python3"
  },
  "language_info": {
   "codemirror_mode": {
    "name": "ipython",
    "version": 3
   },
   "file_extension": ".py",
   "mimetype": "text/x-python",
   "name": "python",
   "nbconvert_exporter": "python",
   "pygments_lexer": "ipython3",
   "version": "3.7.6"
  }
 },
 "nbformat": 4,
 "nbformat_minor": 4
}
